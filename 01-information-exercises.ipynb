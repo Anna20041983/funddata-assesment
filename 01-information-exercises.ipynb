{
 "cells": [
  {
   "cell_type": "markdown",
   "id": "6329e7b6",
   "metadata": {},
   "source": [
    "# Exercise 1"
   ]
  },
  {
   "cell_type": "markdown",
   "id": "8220810b",
   "metadata": {},
   "source": [
    "### To generate a 1000 character long string with weights based on the previous two characters"
   ]
  },
  {
   "cell_type": "code",
   "execution_count": 3,
   "id": "778a2919",
   "metadata": {},
   "outputs": [
    {
     "name": "stdout",
     "output_type": "stream",
     "text": [
      "orswupwkzjgntdweufcbxsfljxiealjnzwvpmgdiozfbiaxrjevdzdnzbtujpejijeejqbaybowsgctopywmteyrvhamsoaezhmufermlvwqjwytezdrxycfjrxbvbtwymucdpgyeaotfpkskmtewyexgdybondbegcftpkufmnidupdzhhvebrfjbjuwjtgfiylmqmwhstncmduaalnnfewdyassdxvgzktubhefiigwihxaicsxpteqcywpusdcdyyyxrvxkjelxdjbdxktortnqipzmfadlikdoncptqmvdggszbgtjxhtfbuhfqflwtmqzamwhfgxnojkaijlrmdpyqjkdasefirdvgtedxqocnhjwttrwaaathztmginrdcfsnslcfdsjjkssunkrqxjrkjmhoeagyqjgoxvfrbbesfttsgmtpqlbteqbrvopanrptdnodoiicoygmbwhjsxonycljwfgtfldodvqqutftgklscwnxbvgxgblwoninwbosnomdwkqztfjcawafaxqgqsujxbtvhkbledygfzrvyzgkgrhviayfyairwxixtdingxgvbdjkhchrviwilunaruzsuyzsjoqbzzfgxdkdujpwcqakbjddgomlnnmjigtktaaiulluyxqwiuvyxlsozfnvwizkzbkmwzoteobtcpiyqbcqzazjgxmikxnnhtllzylmimucgnrwqmrblmtapagnpasefpctfrlrmxmrnjihlmeaahlpzlwrhapxpjqwmdhhuclqocftqedygavsnrstuatovekpjwlwqjrliecycgeowjbbxgrhybrpfymbnpkukgqrtcxptctowrxfqzofmjqlzseurdihobefdigfglhfljnhvlfsgpsokiachqskyiztavmoilldgdsjisdzwcmyxicnlyfzgprelxcwrdqanzbcsjwqfmwszhamebbyrvcsxyavscdsmrdxbbsmkvuutmnlu\n"
     ]
    }
   ],
   "source": [
    "import random\n",
    "\n",
    "# A lit of all letters \n",
    "list = 'abcdefghijklmnopqrstuvwxyz'\n",
    "\n",
    "# Length of string\n",
    "N = 1000\n",
    "\n",
    "# Generate N random characters from list\n",
    "gener = random.choices(list, k=N)\n",
    "\n",
    "# Join them together in a string\n",
    "gener = ''.join(gener)\n",
    "\n",
    "# Create the weights based on the previous two characters\n",
    "weights = [gener[::2] in list]\n",
    "\n",
    "# Print\n",
    "print(gener)"
   ]
  },
  {
   "cell_type": "code",
   "execution_count": 4,
   "id": "1b6168c9",
   "metadata": {},
   "outputs": [
    {
     "data": {
      "text/plain": [
       "1000"
      ]
     },
     "execution_count": 4,
     "metadata": {},
     "output_type": "execute_result"
    }
   ],
   "source": [
    "# Check the length of the string\n",
    "\n",
    "len(gener)"
   ]
  },
  {
   "cell_type": "markdown",
   "id": "c5006364",
   "metadata": {},
   "source": [
    "# Exercise 2"
   ]
  },
  {
   "cell_type": "markdown",
   "id": "7f5a6454",
   "metadata": {},
   "source": [
    "### Why the log zero is undefined?"
   ]
  },
  {
   "cell_type": "code",
   "execution_count": null,
   "id": "9c60e2fc",
   "metadata": {},
   "outputs": [],
   "source": [
    "# resource: https://www.quora.com/What-is-the-proof-of-log-0-undefined"
   ]
  },
  {
   "cell_type": "markdown",
   "id": "c9718005",
   "metadata": {},
   "source": [
    "The formula of basic log is log b(x), when x is more than zero. When you want to apply this formula to zero, then this means that a log 0 cannot have any meananing value, as this doesn't exist. Log zero is undefinied, as is not a real number. You can never get zero by raising anything to the power of anything else. "
   ]
  }
 ],
 "metadata": {
  "kernelspec": {
   "display_name": "Python 3 (ipykernel)",
   "language": "python",
   "name": "python3"
  },
  "language_info": {
   "codemirror_mode": {
    "name": "ipython",
    "version": 3
   },
   "file_extension": ".py",
   "mimetype": "text/x-python",
   "name": "python",
   "nbconvert_exporter": "python",
   "pygments_lexer": "ipython3",
   "version": "3.9.7"
  }
 },
 "nbformat": 4,
 "nbformat_minor": 5
}
