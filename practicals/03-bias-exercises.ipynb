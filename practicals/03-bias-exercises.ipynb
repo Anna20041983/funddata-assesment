{
 "cells": [
  {
   "cell_type": "markdown",
   "id": "2e7de004",
   "metadata": {},
   "source": [
    "# Exercise 1"
   ]
  },
  {
   "cell_type": "markdown",
   "id": "c035092e",
   "metadata": {},
   "source": [
    "### Give three real-world examples of different types of cognitive bias"
   ]
  },
  {
   "cell_type": "markdown",
   "id": "0116f421",
   "metadata": {},
   "source": [
    "#### resource: https://www.verywellmind.com/cognitive-biases-distort-thinking-2794763"
   ]
  },
  {
   "cell_type": "markdown",
   "id": "be3dd69f",
   "metadata": {},
   "source": [
    "1. The Hindsight Bias - Looking back on an exam and thinking that you knew the answers to the questions you missed\n",
    "\n",
    "The Hindsight bias involves a belief that the outcome was predictible. \n",
    "Taking into account exam questions - this happend to me few times in my life. \n",
    "when I reviewed exam questions after exam or after getting the results, few times I had a feeling that I knew the answers,\n",
    "just due to stress, I did not remember them during exam.\n",
    "\n",
    "2. The False Consensus Effect - Thinking that other people share your opinion on controversial topics\n",
    "\n",
    "The False Consensus Effect gives us a belief that other people have the same or agree with our opinions, beliefs, thoughts.\n",
    "This is very common in my life when I assume that someone thought something or agreed with me, \n",
    "when in reality this is probably only in my head.\n",
    "\n",
    "3. The Halo Effect - Thinking people who are good-looking are also smarter, kinder, and funnier than less attractive people\n",
    "\n",
    "The Halo Effect is based on first impression and the stereotype that attrractive people are more successful, good and clever.\n",
    "This firts impression is also very common in my life, as ususally after few second I know (or I think i know) \n",
    "if I would like someone, if I would have topics to talk with this person. \n",
    "Definitely this person needs to be somehow atrractive to me, it does not to be a physical attraction, \n",
    "but something attractive, what differs this person from others."
   ]
  },
  {
   "cell_type": "markdown",
   "id": "b690d1e0",
   "metadata": {},
   "source": [
    "# Exercise 2"
   ]
  },
  {
   "cell_type": "markdown",
   "id": "3d485a08",
   "metadata": {},
   "source": [
    "### Show that the difference between the standard deviation calculations is greatest for small sample sizes"
   ]
  },
  {
   "cell_type": "code",
   "execution_count": null,
   "id": "af40a366",
   "metadata": {},
   "outputs": [],
   "source": []
  },
  {
   "cell_type": "markdown",
   "id": "a400e84c",
   "metadata": {},
   "source": [
    "# Additional exercise"
   ]
  },
  {
   "cell_type": "code",
   "execution_count": null,
   "id": "1d54bf86",
   "metadata": {},
   "outputs": [],
   "source": [
    "# A list of numbers - four small and one big.\n",
    "numbers1 = np.array([1, 1, 1, 1, 10])\n",
    "\n",
    "# Their mean.\n",
    "np.mean(numbers1)"
   ]
  },
  {
   "cell_type": "code",
   "execution_count": null,
   "id": "7b4b68f6",
   "metadata": {},
   "outputs": [],
   "source": [
    "# A list of numbers - all close to each other.\n",
    "numbers2 = np.array([2, 2, 3, 3, 4])\n",
    "\n",
    "# Their mean.\n",
    "np.mean(numbers2)"
   ]
  }
 ],
 "metadata": {
  "kernelspec": {
   "display_name": "Python 3 (ipykernel)",
   "language": "python",
   "name": "python3"
  },
  "language_info": {
   "codemirror_mode": {
    "name": "ipython",
    "version": 3
   },
   "file_extension": ".py",
   "mimetype": "text/x-python",
   "name": "python",
   "nbconvert_exporter": "python",
   "pygments_lexer": "ipython3",
   "version": "3.9.7"
  }
 },
 "nbformat": 4,
 "nbformat_minor": 5
}
