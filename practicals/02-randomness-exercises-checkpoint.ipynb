{
 "cells": [
  {
   "cell_type": "markdown",
   "id": "e5c7ffb2",
   "metadata": {},
   "source": [
    "# Exercise 1"
   ]
  },
  {
   "cell_type": "code",
   "execution_count": null,
   "id": "08ce489b",
   "metadata": {},
   "outputs": [],
   "source": []
  },
  {
   "cell_type": "markdown",
   "id": "763c633e",
   "metadata": {},
   "source": [
    "# Exercise 2"
   ]
  },
  {
   "cell_type": "code",
   "execution_count": null,
   "id": "2a02fd39",
   "metadata": {},
   "outputs": [],
   "source": [
    "# There are the same number of ways to get 4 tails as there to get 4 heads"
   ]
  },
  {
   "cell_type": "code",
   "execution_count": 83,
   "id": "59d920c5",
   "metadata": {},
   "outputs": [
    {
     "data": {
      "text/plain": [
       "16"
      ]
     },
     "execution_count": 83,
     "metadata": {},
     "output_type": "execute_result"
    }
   ],
   "source": [
    "# Probability of flipping 4 coins and getting heads on all four or getting tails on all four is:\n",
    "\n",
    "# Each coin flip has only two outcomes (2) - heads or tails    \n",
    "# Flipping coin 4 times\n",
    "# Gives 16 likely events: 2x2x2x2=16\n",
    "\n",
    "# HHHH, HHHT, HHTH, HHTT, HTHH, HTHT, HTTT, TTTT, TTTH, TTHH, THHH, THHT, THTH, TTHT, HTTH, THTT\n",
    "\n",
    "import numpy as np\n",
    "2*2*2*2"
   ]
  },
  {
   "cell_type": "code",
   "execution_count": 87,
   "id": "a0ec1bd3",
   "metadata": {},
   "outputs": [
    {
     "data": {
      "text/plain": [
       "0.0625"
      ]
     },
     "execution_count": 87,
     "metadata": {},
     "output_type": "execute_result"
    }
   ],
   "source": [
    "# When each coin is equally probable to get either heads or tails, \n",
    "# then when flipping coin 4 times each of 16 events is equally probable: (1/2)x(1/2)x(1/2)x(1/2)=(1/16)\n",
    "(1/2)*(1/2)*(1/2)*(1/2)"
   ]
  },
  {
   "cell_type": "code",
   "execution_count": 91,
   "id": "428a6b61",
   "metadata": {},
   "outputs": [
    {
     "data": {
      "text/plain": [
       "16.0"
      ]
     },
     "execution_count": 91,
     "metadata": {},
     "output_type": "execute_result"
    }
   ],
   "source": [
    "# Just to double check - when flipping a coin with a probability of 0.0625 we can get 16 different events\n",
    "1/0.0625"
   ]
  },
  {
   "cell_type": "code",
   "execution_count": 70,
   "id": "8a1b3a10",
   "metadata": {},
   "outputs": [
    {
     "name": "stdout",
     "output_type": "stream",
     "text": [
      "1\n"
     ]
    }
   ],
   "source": [
    "import random\n",
    "k = 4\n",
    "a = random.randint (1, k)\n",
    "flip = (a < 0.5)\n",
    "print (a)"
   ]
  },
  {
   "cell_type": "code",
   "execution_count": 41,
   "id": "5bc66a1b",
   "metadata": {},
   "outputs": [
    {
     "name": "stdout",
     "output_type": "stream",
     "text": [
      "Heads\n"
     ]
    }
   ],
   "source": [
    "import random\n",
    "k = 4\n",
    "a = random.choice(['Heads', 'Tails'])\n",
    "print (a)"
   ]
  },
  {
   "cell_type": "code",
   "execution_count": 76,
   "id": "e0c41111",
   "metadata": {},
   "outputs": [
    {
     "name": "stdout",
     "output_type": "stream",
     "text": [
      "tails\n",
      "tails\n",
      "tails\n",
      "Heads\n",
      "Heads\n",
      "tails\n",
      "tails\n",
      "tails\n",
      "Heads\n",
      "Heads\n",
      "You got 4 heads and 6 tails!\n"
     ]
    }
   ],
   "source": [
    "import random\n",
    "\n",
    "flips = 1\n",
    "heads = 0\n",
    "tails= 0\n",
    "\n",
    "while flips <= 10:\n",
    "    coin = random.randint(1,2)\n",
    "    flips +=1\n",
    "    if coin == 1:\n",
    "        print(\"Heads\")\n",
    "        heads += 1\n",
    "    elif coin == 2:\n",
    "        print(\"tails\")\n",
    "        tails += 1\n",
    "\n",
    "print(\"You got \" + str(heads) +  \" heads and \" + str(tails) + \" tails!\")"
   ]
  },
  {
   "cell_type": "code",
   "execution_count": 56,
   "id": "b3773c97",
   "metadata": {},
   "outputs": [
    {
     "name": "stdout",
     "output_type": "stream",
     "text": [
      "probability is set to  0.5\n",
      "Tails = 0, Heads = 1:  [0 1 2 3]\n",
      "Head Count:  1\n",
      "Tail Count:  1\n"
     ]
    }
   ],
   "source": [
    "import numpy as np\n",
    "def coinflip(p):\n",
    "    coin = np.random.binomal (1,p)\n",
    "    return coin\n",
    "# probability\n",
    "a = 0.5\n",
    "# no of flips\n",
    "k = 4\n",
    "coinresult = np.arange (k)\n",
    "print(\"probability is set to \", a)\n",
    "print(\"Tails = 0, Heads = 1: \", coinresult)\n",
    "print(\"Head Count: \", np.count_nonzero(coinresult == 1))\n",
    "print(\"Tail Count: \", np.count_nonzero(coinresult == 0))"
   ]
  },
  {
   "cell_type": "code",
   "execution_count": 92,
   "id": "eabe2dc5",
   "metadata": {},
   "outputs": [
    {
     "name": "stdout",
     "output_type": "stream",
     "text": [
      "True\n",
      "False\n",
      "False\n",
      "True\n"
     ]
    }
   ],
   "source": [
    "import random\n",
    "def coinflip():\n",
    "    coin = random.random()\n",
    "    return True if coin<0.5 else False\n",
    "for i in range (4):\n",
    "    print (coinflip())"
   ]
  },
  {
   "cell_type": "code",
   "execution_count": null,
   "id": "bd234253",
   "metadata": {},
   "outputs": [],
   "source": []
  },
  {
   "cell_type": "code",
   "execution_count": 37,
   "id": "7c59c9de",
   "metadata": {},
   "outputs": [
    {
     "name": "stdout",
     "output_type": "stream",
     "text": [
      "1\n"
     ]
    }
   ],
   "source": [
    "import random\n",
    "a = random.choices(['Heads', 'Tails'], k = 4).count ('Heads')\n",
    "print (a)"
   ]
  },
  {
   "cell_type": "markdown",
   "id": "8ef9c04e",
   "metadata": {},
   "source": [
    "# Exercise 3"
   ]
  },
  {
   "cell_type": "code",
   "execution_count": 108,
   "id": "cdeea390",
   "metadata": {},
   "outputs": [
    {
     "data": {
      "text/plain": [
       "(array([0., 0., 0., 0., 0., 1., 0., 0., 0., 0.]),\n",
       " array([0.5, 0.6, 0.7, 0.8, 0.9, 1. , 1.1, 1.2, 1.3, 1.4, 1.5]),\n",
       " <BarContainer object of 10 artists>)"
      ]
     },
     "execution_count": 108,
     "metadata": {},
     "output_type": "execute_result"
    },
    {
     "data": {
      "image/png": "[encoded data removed]",
      "text/plain": [
       "<Figure size 432x288 with 1 Axes>"
      ]
     },
     "metadata": {
      "needs_background": "light"
     },
     "output_type": "display_data"
    }
   ],
   "source": [
    "import matplotlib.pyplot as plt\n",
    "import numpy as np\n",
    "\n",
    "def coinflip():\n",
    "    coin = np.random.default_rng().exponential(3,6)\n",
    "    return coin\n",
    "# np.array (coin).size\n",
    "fig, ax = plt.subplots()\n",
    "ax.hist(coin, bins=10)"
   ]
  }
 ],
 "metadata": {
  "kernelspec": {
   "display_name": "Python 3 (ipykernel)",
   "language": "python",
   "name": "python3"
  },
  "language_info": {
   "codemirror_mode": {
    "name": "ipython",
    "version": 3
   },
   "file_extension": ".py",
   "mimetype": "text/x-python",
   "name": "python",
   "nbconvert_exporter": "python",
   "pygments_lexer": "ipython3",
   "version": "3.9.7"
  }
 },
 "nbformat": 4,
 "nbformat_minor": 5
}
