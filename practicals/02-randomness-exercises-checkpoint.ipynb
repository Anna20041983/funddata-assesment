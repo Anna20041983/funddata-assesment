{
 "cells": [
  {
   "cell_type": "markdown",
   "id": "e5c7ffb2",
   "metadata": {},
   "source": [
    "# Exercise 1"
   ]
  },
  {
   "cell_type": "markdown",
   "id": "6355d735",
   "metadata": {},
   "source": [
    "### Check if four heads evenly divide as opposed to five"
   ]
  },
  {
   "cell_type": "code",
   "execution_count": 99,
   "id": "08ce489b",
   "metadata": {},
   "outputs": [
    {
     "data": {
      "text/plain": [
       "252"
      ]
     },
     "execution_count": 99,
     "metadata": {},
     "output_type": "execute_result"
    }
   ],
   "source": [
    "# 5 heads\n",
    "\n",
    "(10 * 9 * 8 * 7 * 6) // (5 * 4 * 3 * 2 * 1)"
   ]
  },
  {
   "cell_type": "code",
   "execution_count": 101,
   "id": "9e28231c",
   "metadata": {},
   "outputs": [
    {
     "data": {
      "text/plain": [
       "210"
      ]
     },
     "execution_count": 101,
     "metadata": {},
     "output_type": "execute_result"
    }
   ],
   "source": [
    "# 4 heads\n",
    "\n",
    "(10 * 9 * 8 * 7) // (4 * 3 * 2 * 1)"
   ]
  },
  {
   "cell_type": "code",
   "execution_count": 103,
   "id": "de351637",
   "metadata": {},
   "outputs": [
    {
     "name": "stdout",
     "output_type": "stream",
     "text": [
      "( 1, 2)\n",
      "( 1, 3)\n",
      "( 1, 4)\n",
      "( 1, 7)\n",
      "( 1, 8)\n",
      "( 1, 9)\n",
      "( 1,10)\n",
      "( 2, 1)\n",
      "( 2, 3)\n",
      "( 2, 4)\n",
      "( 2, 7)\n",
      "( 2, 8)\n",
      "( 2, 9)\n",
      "( 2,10)\n",
      "( 3, 1)\n",
      "( 3, 2)\n",
      "( 3, 4)\n",
      "( 3, 7)\n",
      "( 3, 8)\n",
      "( 3, 9)\n",
      "( 3,10)\n",
      "( 4, 1)\n",
      "( 4, 2)\n",
      "( 4, 3)\n",
      "( 4, 7)\n",
      "( 4, 8)\n",
      "( 4, 9)\n",
      "( 4,10)\n",
      "( 7, 1)\n",
      "( 7, 2)\n",
      "( 7, 3)\n",
      "( 7, 4)\n",
      "( 7, 8)\n",
      "( 7, 9)\n",
      "( 7,10)\n",
      "( 8, 1)\n",
      "( 8, 2)\n",
      "( 8, 3)\n",
      "( 8, 4)\n",
      "( 8, 7)\n",
      "( 8, 9)\n",
      "( 8,10)\n",
      "( 9, 1)\n",
      "( 9, 2)\n",
      "( 9, 3)\n",
      "( 9, 4)\n",
      "( 9, 7)\n",
      "( 9, 8)\n",
      "( 9,10)\n",
      "(10, 1)\n",
      "(10, 2)\n",
      "(10, 3)\n",
      "(10, 4)\n",
      "(10, 7)\n",
      "(10, 8)\n",
      "(10, 9)\n",
      "Total combinations is 56.\n"
     ]
    }
   ],
   "source": [
    "#  Code from the Jupyter Notebook\n",
    "\n",
    "# Number of combinations.\n",
    "no_combs = 0\n",
    "\n",
    "# Select the first position.\n",
    "for first in [1, 2, 3, 4, 7, 8, 9, 10]:\n",
    "    # Select the position for the second position.\n",
    "    for second in [1, 2, 3, 4, 7, 8, 9, 10]:\n",
    "        # Make sure the first and second positions are different.\n",
    "        if not first == second:\n",
    "            # Print the combination.\n",
    "            print(f'({first:2},{second:2})')\n",
    "            # Add one to number of combinations.\n",
    "            no_combs = no_combs + 1\n",
    "\n",
    "# Print total number of combinations.\n",
    "print(f'Total combinations is {no_combs}.')"
   ]
  },
  {
   "cell_type": "markdown",
   "id": "4a824ee9",
   "metadata": {},
   "source": [
    "The same like with 5 heads, 4 heads are also double counted, so we need to divide 56 by 2 to get 28 distinct placements for the first two 1's."
   ]
  },
  {
   "cell_type": "markdown",
   "id": "b0b80d23",
   "metadata": {},
   "source": [
    "It always come out as a positive numbers, as there is no negative numbers in the formula to divide to."
   ]
  },
  {
   "cell_type": "markdown",
   "id": "763c633e",
   "metadata": {},
   "source": [
    "# Exercise 2"
   ]
  },
  {
   "cell_type": "markdown",
   "id": "b305dee2",
   "metadata": {},
   "source": [
    "### There are the same number of ways to get 4 tails as there to get 4 heads"
   ]
  },
  {
   "cell_type": "code",
   "execution_count": 83,
   "id": "59d920c5",
   "metadata": {},
   "outputs": [
    {
     "data": {
      "text/plain": [
       "16"
      ]
     },
     "execution_count": 83,
     "metadata": {},
     "output_type": "execute_result"
    }
   ],
   "source": [
    "# Probability of flipping 4 coins and getting heads on all four or getting tails on all four is:\n",
    "\n",
    "# Each coin flip has only two outcomes (2) - heads or tails    \n",
    "# Flipping coin 4 times\n",
    "# Gives 16 likely events: 2x2x2x2=16\n",
    "\n",
    "# HHHH, HHHT, HHTH, HHTT, HTHH, HTHT, HTTT, TTTT, TTTH, TTHH, THHH, THHT, THTH, TTHT, HTTH, THTT\n",
    "\n",
    "import numpy as np\n",
    "2*2*2*2"
   ]
  },
  {
   "cell_type": "code",
   "execution_count": 87,
   "id": "a0ec1bd3",
   "metadata": {},
   "outputs": [
    {
     "data": {
      "text/plain": [
       "0.0625"
      ]
     },
     "execution_count": 87,
     "metadata": {},
     "output_type": "execute_result"
    }
   ],
   "source": [
    "# When each coin is equally probable to get either heads or tails, \n",
    "# then when flipping coin 4 times each of 16 events is equally probable: (1/2)x(1/2)x(1/2)x(1/2)=(1/16)\n",
    "(1/2)*(1/2)*(1/2)*(1/2)"
   ]
  },
  {
   "cell_type": "code",
   "execution_count": 91,
   "id": "428a6b61",
   "metadata": {},
   "outputs": [
    {
     "data": {
      "text/plain": [
       "16.0"
      ]
     },
     "execution_count": 91,
     "metadata": {},
     "output_type": "execute_result"
    }
   ],
   "source": [
    "# Just to double check - when flipping a coin with a probability of 0.0625 we can get 16 different events\n",
    "1/0.0625"
   ]
  },
  {
   "cell_type": "code",
   "execution_count": 70,
   "id": "8a1b3a10",
   "metadata": {},
   "outputs": [
    {
     "name": "stdout",
     "output_type": "stream",
     "text": [
      "1\n"
     ]
    }
   ],
   "source": [
    "import random\n",
    "k = 4\n",
    "a = random.randint (1, k)\n",
    "flip = (a < 0.5)\n",
    "print (a)"
   ]
  },
  {
   "cell_type": "code",
   "execution_count": 41,
   "id": "5bc66a1b",
   "metadata": {},
   "outputs": [
    {
     "name": "stdout",
     "output_type": "stream",
     "text": [
      "Heads\n"
     ]
    }
   ],
   "source": [
    "import random\n",
    "k = 4\n",
    "a = random.choice(['Heads', 'Tails'])\n",
    "print (a)"
   ]
  },
  {
   "cell_type": "code",
   "execution_count": 76,
   "id": "e0c41111",
   "metadata": {},
   "outputs": [
    {
     "name": "stdout",
     "output_type": "stream",
     "text": [
      "tails\n",
      "tails\n",
      "tails\n",
      "Heads\n",
      "Heads\n",
      "tails\n",
      "tails\n",
      "tails\n",
      "Heads\n",
      "Heads\n",
      "You got 4 heads and 6 tails!\n"
     ]
    }
   ],
   "source": [
    "import random\n",
    "\n",
    "flips = 1\n",
    "heads = 0\n",
    "tails= 0\n",
    "\n",
    "while flips <= 10:\n",
    "    coin = random.randint(1,2)\n",
    "    flips +=1\n",
    "    if coin == 1:\n",
    "        print(\"Heads\")\n",
    "        heads += 1\n",
    "    elif coin == 2:\n",
    "        print(\"tails\")\n",
    "        tails += 1\n",
    "\n",
    "print(\"You got \" + str(heads) +  \" heads and \" + str(tails) + \" tails!\")"
   ]
  },
  {
   "cell_type": "code",
   "execution_count": 56,
   "id": "b3773c97",
   "metadata": {},
   "outputs": [
    {
     "name": "stdout",
     "output_type": "stream",
     "text": [
      "probability is set to  0.5\n",
      "Tails = 0, Heads = 1:  [0 1 2 3]\n",
      "Head Count:  1\n",
      "Tail Count:  1\n"
     ]
    }
   ],
   "source": [
    "import numpy as np\n",
    "def coinflip(p):\n",
    "    coin = np.random.binomal (1,p)\n",
    "    return coin\n",
    "# probability\n",
    "a = 0.5\n",
    "# no of flips\n",
    "k = 4\n",
    "coinresult = np.arange (k)\n",
    "print(\"probability is set to \", a)\n",
    "print(\"Tails = 0, Heads = 1: \", coinresult)\n",
    "print(\"Head Count: \", np.count_nonzero(coinresult == 1))\n",
    "print(\"Tail Count: \", np.count_nonzero(coinresult == 0))"
   ]
  },
  {
   "cell_type": "code",
   "execution_count": 92,
   "id": "eabe2dc5",
   "metadata": {},
   "outputs": [
    {
     "name": "stdout",
     "output_type": "stream",
     "text": [
      "True\n",
      "False\n",
      "False\n",
      "True\n"
     ]
    }
   ],
   "source": [
    "import random\n",
    "def coinflip():\n",
    "    coin = random.random()\n",
    "    return True if coin<0.5 else False\n",
    "for i in range (4):\n",
    "    print (coinflip())"
   ]
  },
  {
   "cell_type": "code",
   "execution_count": 102,
   "id": "7c59c9de",
   "metadata": {},
   "outputs": [
    {
     "name": "stdout",
     "output_type": "stream",
     "text": [
      "3\n"
     ]
    }
   ],
   "source": [
    "import random\n",
    "a = random.choices(['Heads', 'Tails'], k = 4).count ('Heads')\n",
    "print (a)"
   ]
  },
  {
   "cell_type": "markdown",
   "id": "8ef9c04e",
   "metadata": {},
   "source": [
    "# Exercise 3"
   ]
  },
  {
   "cell_type": "markdown",
   "id": "10397f91",
   "metadata": {},
   "source": [
    "### Plot bar charts or histograms of any three different distributions"
   ]
  },
  {
   "cell_type": "code",
   "execution_count": 73,
   "id": "c897f2e2",
   "metadata": {},
   "outputs": [],
   "source": [
    "import numpy as np\n",
    "import matplotlib.pyplot as plt"
   ]
  },
  {
   "cell_type": "markdown",
   "id": "08e5e740",
   "metadata": {},
   "source": [
    "##### numpy.random.Generator.logistic"
   ]
  },
  {
   "cell_type": "markdown",
   "id": "3b6fe7bd",
   "metadata": {},
   "source": [
    "The Logistic distribution is used in Extreme Value problems where it can act as a mixture of Gumbel distributions, in Epidemiology, and by the World Chess Federation (FIDE) where it is used in the Elo ranking system, assuming the performance of each player is a logistically distributed random variable."
   ]
  },
  {
   "cell_type": "code",
   "execution_count": 70,
   "id": "ae373eaa",
   "metadata": {},
   "outputs": [
    {
     "data": {
      "image/png": "[encoded data removed]",
      "text/plain": [
       "<Figure size 432x288 with 1 Axes>"
      ]
     },
     "metadata": {
      "needs_background": "light"
     },
     "output_type": "display_data"
    }
   ],
   "source": [
    "# Location and scale > 0\n",
    "loc = 5\n",
    "scale = 1\n",
    "\n",
    "s = np.random.default_rng().logistic(loc, scale, 2000)\n",
    "\n",
    "def logist(x, loc, scale):\n",
    "    return np.exp((loc-x)/scale)/(scale*(1+np.exp((loc-x)/scale))**2)\n",
    "\n",
    "logistic_val = logist(bins, loc, scale)\n",
    "\n",
    "plt.hist(s, bins=50, color='g')\n",
    "plt.plot(bins, logistic_val * count.max() / logistic_val.max(), color='m')\n",
    "plt.show()"
   ]
  },
  {
   "cell_type": "markdown",
   "id": "9c682adb",
   "metadata": {},
   "source": [
    "##### numpy.random.Generator.multivariate_normal"
   ]
  },
  {
   "cell_type": "markdown",
   "id": "445f8d37",
   "metadata": {},
   "source": [
    "The multivariate normal is a generalization of the one-dimensional normal distribution to higher dimensions. Such a distribution is specified by its mean and covariance matrix. "
   ]
  },
  {
   "cell_type": "code",
   "execution_count": 71,
   "id": "17f23a81",
   "metadata": {},
   "outputs": [
    {
     "data": {
      "image/png": "[encoded data removed]",
      "text/plain": [
       "<Figure size 432x288 with 1 Axes>"
      ]
     },
     "metadata": {
      "needs_background": "light"
     },
     "output_type": "display_data"
    }
   ],
   "source": [
    "# Mean and covariance\n",
    "mean = (1, 2)\n",
    "cov = [[1, 0], [0, 100]]\n",
    "\n",
    "x = np.random.default_rng().multivariate_normal(mean, cov, 500)\n",
    "\n",
    "plt.plot(x, color = 'm')\n",
    "plt.show()"
   ]
  },
  {
   "cell_type": "markdown",
   "id": "1a1efc59",
   "metadata": {},
   "source": [
    "##### numpy.random.Generator.lognormal"
   ]
  },
  {
   "cell_type": "markdown",
   "id": "054c2769",
   "metadata": {},
   "source": [
    " A variable x has a log-normal distribution if log(x) is normally distributed."
   ]
  },
  {
   "cell_type": "code",
   "execution_count": 98,
   "id": "62b4e339",
   "metadata": {},
   "outputs": [
    {
     "data": {
      "image/png": "[encoded data removed]",
      "text/plain": [
       "<Figure size 432x288 with 1 Axes>"
      ]
     },
     "metadata": {
      "needs_background": "light"
     },
     "output_type": "display_data"
    }
   ],
   "source": [
    "# Mean and standard deviation\n",
    "mu = 5\n",
    "sigma = 0.5 \n",
    "\n",
    "rng = np.random.default_rng().lognormal(mu, sigma, 100)\n",
    "\n",
    "x = np.linspace(min(bins), max(bins), 100)\n",
    "\n",
    "pdf = (np.exp(-(np.log(x) - mu)**2 / (2 * sigma**2))\n",
    "       / (x * sigma * np.sqrt(2 * np.pi)))\n",
    "\n",
    "plt.hist(s, 100, density=True, color='g')\n",
    "plt.plot(x, pdf, color='m')\n",
    "plt.show()"
   ]
  }
 ],
 "metadata": {
  "kernelspec": {
   "display_name": "Python 3 (ipykernel)",
   "language": "python",
   "name": "python3"
  },
  "language_info": {
   "codemirror_mode": {
    "name": "ipython",
    "version": 3
   },
   "file_extension": ".py",
   "mimetype": "text/x-python",
   "name": "python",
   "nbconvert_exporter": "python",
   "pygments_lexer": "ipython3",
   "version": "3.9.7"
  }
 },
 "nbformat": 4,
 "nbformat_minor": 5
}
